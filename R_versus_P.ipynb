{
 "cells": [
  {
   "cell_type": "code",
   "execution_count": 1,
   "id": "3b6e1ae8-e04c-43a3-b03a-1db9dca45122",
   "metadata": {},
   "outputs": [],
   "source": [
    "import biodivine_aeon as ba \n",
    "import pandas as pd"
   ]
  },
  {
   "cell_type": "code",
   "execution_count": 2,
   "id": "ebf49102-5994-46a5-a224-04e731a10377",
   "metadata": {},
   "outputs": [],
   "source": [
    "model = ba.BooleanNetwork.from_file('yes_R_no_P.aeon')\n",
    "pstg = ba.AsynchronousPerturbationGraph(model)\n",
    "phenotype=pstg.mk_subspace_vertices({ \"x1\": True , \"x2\" :True})"
   ]
  },
  {
   "cell_type": "code",
   "execution_count": 3,
   "id": "9074a388-781c-47f5-95d3-4ca40b352a3c",
   "metadata": {},
   "outputs": [
    {
     "name": "stdout",
     "output_type": "stream",
     "text": [
      "[VertexSet(cardinality=1, symbolic_size=4), VertexSet(cardinality=1, symbolic_size=4)]\n",
      "[<biodivine_aeon._VertexModelIterator object at 0x7fd4b76071b0>, <biodivine_aeon._VertexModelIterator object at 0x7fd4b745a4b0>]\n"
     ]
    }
   ],
   "source": [
    "attractors = ba.Attractors.attractors(pstg)\n",
    "attractors = [ a.vertices() for a in attractors ]\n",
    "print(attractors)\n",
    "att=[ a.items() for a in attractors ]\n",
    "print(att)"
   ]
  },
  {
   "cell_type": "code",
   "execution_count": 4,
   "id": "192a639d-19eb-4240-950b-973dfed82a28",
   "metadata": {},
   "outputs": [],
   "source": [
    "phen_sym_results = ba.Control.phenotype_permanent(\n",
    "    graph=pstg,\n",
    "    phenotype=phenotype,\n",
    "    oscillation_type=\"forbidden\",\n",
    "    size_limit=10,\n",
    "    stop_when_found=False\n",
    ")"
   ]
  },
  {
   "cell_type": "code",
   "execution_count": 5,
   "id": "f7e6a255-3e4a-49a5-ab46-03cfcf2c0dbc",
   "metadata": {},
   "outputs": [
    {
     "name": "stdout",
     "output_type": "stream",
     "text": [
      "{'x2': True}\n",
      "{'x2': True, 'x1': True}\n"
     ]
    }
   ],
   "source": [
    "for (p, r, c) in phen_sym_results.select_by_robustness(threshold=0.9999999, result_limit=100):\n",
    "    print(p.perturbed_named_dict())"
   ]
  },
  {
   "cell_type": "code",
   "execution_count": 6,
   "id": "9df4ebeb-cab5-4850-a6c5-4154f9eefa13",
   "metadata": {},
   "outputs": [
    {
     "name": "stdout",
     "output_type": "stream",
     "text": [
      "one_step :  {'x2': True}\n",
      "one_step :  {'x1': False}\n",
      "one_step :  {'x2': False, 'x1': False}\n",
      "one_step :  {'x1': False, 'x2': True}\n",
      "one_step :  {'x2': True, 'x1': True}\n",
      "temporary : {'x2': True}\n",
      "temporary : {'x1': False}\n",
      "temporary : {'x2': False, 'x1': False}\n",
      "temporary : {'x2': True, 'x1': False}\n",
      "temporary : {'x1': True, 'x2': True}\n",
      "permanent : {'x2': True}\n",
      "permanent : {'x1': True, 'x2': True}\n"
     ]
    }
   ],
   "source": [
    "source={'x1': True,'x2': False}\n",
    "target={'x1': True, 'x2' : True}\n",
    "one_step=ba.Control.attractor_one_step(pstg, source, target)\n",
    "\n",
    "for (p, r, c) in one_step.select_by_robustness(threshold=0.9999999, result_limit=100):\n",
    "    print(\"one_step : \", p.perturbed_named_dict())\n",
    "temporary=ba.Control.attractor_temporary(pstg, source, target)\n",
    "for (p, r, c) in temporary.select_by_robustness(threshold=0.9999999, result_limit=100):\n",
    "    print(\"temporary :\", p.perturbed_named_dict())\n",
    "\n",
    "\n",
    "permanent=ba.Control.attractor_permanent(pstg, source, target)\n",
    "for (p, r, c) in permanent.select_by_robustness(threshold=0.9999999, result_limit=100):\n",
    "    print(\"permanent :\", p.perturbed_named_dict())\n"
   ]
  },
  {
   "cell_type": "code",
   "execution_count": 7,
   "id": "4b9bc7b0-0157-4b3b-9f2e-936e5cd86320",
   "metadata": {},
   "outputs": [
    {
     "name": "stdout",
     "output_type": "stream",
     "text": [
      "permanent : {'x1': False}\n",
      "permanent : {'x2': True, 'x1': False}\n"
     ]
    }
   ],
   "source": [
    "source={'x1': True,'x2': False}\n",
    "target={'x1': False, 'x2' : True}\n",
    "one_step=ba.Control.attractor_one_step(pstg, source, target)\n",
    "\n",
    "for (p, r, c) in one_step.select_by_robustness(threshold=0.9999999, result_limit=100):\n",
    "    print(\"one_step : \", p.perturbed_named_dict())\n",
    "temporary=ba.Control.attractor_temporary(pstg, source, target)\n",
    "for (p, r, c) in temporary.select_by_robustness(threshold=0.9999999, result_limit=100):\n",
    "    print(\"temporary :\", p.perturbed_named_dict())\n",
    "\n",
    "\n",
    "permanent=ba.Control.attractor_permanent(pstg, source, target)\n",
    "for (p, r, c) in permanent.select_by_robustness(threshold=0.9999999, result_limit=100):\n",
    "    print(\"permanent :\", p.perturbed_named_dict())\n"
   ]
  },
  {
   "cell_type": "code",
   "execution_count": null,
   "id": "a759a304-a192-4f26-87f1-4c095135b59e",
   "metadata": {},
   "outputs": [],
   "source": []
  }
 ],
 "metadata": {
  "kernelspec": {
   "display_name": "Python 3 (ipykernel)",
   "language": "python",
   "name": "python3"
  },
  "language_info": {
   "codemirror_mode": {
    "name": "ipython",
    "version": 3
   },
   "file_extension": ".py",
   "mimetype": "text/x-python",
   "name": "python",
   "nbconvert_exporter": "python",
   "pygments_lexer": "ipython3",
   "version": "3.10.12"
  }
 },
 "nbformat": 4,
 "nbformat_minor": 5
}
